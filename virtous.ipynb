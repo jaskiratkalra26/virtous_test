{
 "cells": [
  {
   "cell_type": "code",
   "execution_count": 1,
   "id": "a14cbc16",
   "metadata": {},
   "outputs": [],
   "source": [
    "import mysql.connector\n",
    "conn = mysql.connector.connect(host = \"localhost\",user = \"root\",password = \"horridhenry\",database = \"student_info\")\n",
    "c = conn.cursor()"
   ]
  },
  {
   "cell_type": "code",
   "execution_count": 2,
   "id": "45184fc8",
   "metadata": {},
   "outputs": [],
   "source": [
    "c.execute(\"\"\" \n",
    "CREATE TABLE student(student_name VARCHAR(30),college_name VARCHAR(50),\n",
    "          round_one_marks FLOAT, round_two_marks FLOAT, round_three_marks FLOAT, technical_round_marks FLOAT, total_marks FLOAT\n",
    "          )\n",
    "          \"\"\")"
   ]
  },
  {
   "cell_type": "code",
   "execution_count": 4,
   "id": "3fa13ae9",
   "metadata": {},
   "outputs": [],
   "source": [
    "conn.commit()"
   ]
  },
  {
   "cell_type": "code",
   "execution_count": null,
   "id": "0d52c529",
   "metadata": {},
   "outputs": [],
   "source": [
    "name = ''\n",
    "college_name = ''\n",
    "round_one_marks = 0\n",
    "round_two_marks = 0\n",
    "round_three_marks = 0\n",
    "technical_round_marks = 0\n",
    "def input_data():\n",
    "    global name , college_name , round_one_marks ,round_two_marks ,round_three_marks,technical_round_marks\n",
    "    name = input(\"Enter your name: \")\n",
    "    if len(name)>30:\n",
    "        print(\"Name input length greater than 30\")\n",
    "        name = ''\n",
    "        return\n",
    "        \n",
    "    college_name = input(\"Enter your college name: \")\n",
    "    if len(college_name)>50:\n",
    "        print(\"College Name input length greater than 50\")\n",
    "        college_name = ''\n",
    "        return\n",
    "        \n",
    "    round_one_marks = float(input((\"Enter your first round marks: \")))\n",
    "    if round_one_marks <0 or round_one_marks>10:\n",
    "        print(\"First round marks not within vallid range\")\n",
    "        round_one_marks = 0\n",
    "        return\n",
    "\n",
    "    round_two_marks = float(input((\"Enter your second round marks: \")))\n",
    "    if round_two_marks <0 or round_two_marks>10:\n",
    "        print(\"Second round marks not within vallid range\")\n",
    "        round_two_marks = 0\n",
    "        return\n",
    "        \n",
    "    round_three_marks = float(input(\"Enter your third round marks: \"))\n",
    "    if round_three_marks <0 or round_three_marks>10:\n",
    "        print(\"Third round marks not within vallid range\")\n",
    "        round_three_marks = 0\n",
    "        return\n",
    "        \n",
    "    technical_round_marks = float(input(\"Enter your Technical round marks: \"))\n",
    "    if technical_round_marks <0 or technical_round_marks>10:\n",
    "        print(\"Third round marks not within vallid range\")\n",
    "        technical_round_marks = 0\n",
    "        return\n",
    "        \n",
    "    print(\"ALL DATA AQUIRED\")"
   ]
  },
  {
   "cell_type": "code",
   "execution_count": 22,
   "id": "f86af53e",
   "metadata": {},
   "outputs": [
    {
     "name": "stdout",
     "output_type": "stream",
     "text": [
      "ALL DATA AQUIRED\n",
      "Final Collected Data:\n",
      "Name: jaskirat\n",
      "College: chandigarh group of colleges\n",
      "Round 1: 5.0\n",
      "Round 2: 6.0\n",
      "Round 3: 7.0\n",
      "Technical: 6.0\n"
     ]
    }
   ],
   "source": [
    "input_data()\n",
    "print(\"Final Collected Data:\")\n",
    "print(\"Name:\", name)\n",
    "print(\"College:\", college_name)\n",
    "print(\"Round 1:\", round_one_marks)\n",
    "print(\"Round 2:\", round_two_marks)\n",
    "print(\"Round 3:\", round_three_marks)\n",
    "print(\"Technical:\", technical_round_marks)"
   ]
  },
  {
   "cell_type": "code",
   "execution_count": 24,
   "id": "cf2b00e2",
   "metadata": {},
   "outputs": [
    {
     "name": "stdout",
     "output_type": "stream",
     "text": [
      "24.0\n",
      "rejected\n"
     ]
    }
   ],
   "source": [
    "total_marks = round_one_marks+round_two_marks+round_three_marks+technical_round_marks\n",
    "print(total_marks)\n",
    "result = 'rejected' if total_marks<35 else 'selected'\n",
    "print(result)"
   ]
  },
  {
   "cell_type": "code",
   "execution_count": 28,
   "id": "36a89bbf",
   "metadata": {},
   "outputs": [],
   "source": [
    "c.execute(\n",
    "\"ALTER TABLE student ADD Result VARCHAR(50)\")\n"
   ]
  },
  {
   "cell_type": "code",
   "execution_count": 29,
   "id": "b9a56af0",
   "metadata": {},
   "outputs": [],
   "source": [
    "conn.commit()"
   ]
  },
  {
   "cell_type": "code",
   "execution_count": null,
   "id": "02517224",
   "metadata": {},
   "outputs": [],
   "source": [
    "# function for adding data\n",
    "def add_data():\n",
    "    c.execute(\"\"\" INSERT INTO student values(%s,%s,%s,%s,%s,%s,%s,%s)\n",
    "              \"\"\",(name,college_name,round_one_marks,round_two_marks,round_three_marks,technical_round_marks,total_marks,result))\n",
    "    conn.commit()"
   ]
  },
  {
   "cell_type": "code",
   "execution_count": 43,
   "id": "a534dd9f",
   "metadata": {},
   "outputs": [],
   "source": [
    "import pandas as pd\n",
    "\n",
    "#for displaying the table data\n",
    "def display_data():\n",
    "    c.execute(\"SELECT * FROM student\")\n",
    "    data = c.fetchall()\n",
    "    df = pd.DataFrame(data,columns=(\"name\",\"college_name\",\"round_one_marks\",\"round_two_marks\",\"round_three_marks\",\"technical_round_marks\",\"total_marks\",\"result\"))\n",
    "    print(df.head())"
   ]
  },
  {
   "cell_type": "code",
   "execution_count": 46,
   "id": "d8e45f14",
   "metadata": {},
   "outputs": [],
   "source": [
    "# for displaying ranking of students\n",
    "def display_rankings():\n",
    "    c.execute(\"SELECT RANK() AS student_rank OVER(ORDER BY total_marks) from student)\")\n",
    "    data = c.fetchall()\n",
    "    print(pd.DataFrame(data).head())"
   ]
  },
  {
   "cell_type": "code",
   "execution_count": 36,
   "id": "127eb24a",
   "metadata": {},
   "outputs": [],
   "source": [
    "add_data()"
   ]
  },
  {
   "cell_type": "code",
   "execution_count": 47,
   "id": "792ebb1a",
   "metadata": {},
   "outputs": [
    {
     "name": "stdout",
     "output_type": "stream",
     "text": [
      "       name                  college_name  round_one_marks  round_two_marks  \\\n",
      "0  jaskirat  chandigarh group of colleges              5.0              6.0   \n",
      "1       raj                       landran              3.0              4.0   \n",
      "\n",
      "   round_three_marks  technical_round_marks  total_marks    result  \n",
      "0                7.0                    6.0         24.0  rejected  \n",
      "1                4.0                    5.0         24.0  rejected  \n"
     ]
    }
   ],
   "source": [
    "display_data()"
   ]
  },
  {
   "cell_type": "code",
   "execution_count": 38,
   "id": "e14c56c7",
   "metadata": {},
   "outputs": [
    {
     "name": "stdout",
     "output_type": "stream",
     "text": [
      "ALL DATA AQUIRED\n"
     ]
    }
   ],
   "source": [
    "input_data()"
   ]
  },
  {
   "cell_type": "code",
   "execution_count": 39,
   "id": "fe64458a",
   "metadata": {},
   "outputs": [],
   "source": [
    "add_data()"
   ]
  },
  {
   "cell_type": "code",
   "execution_count": 45,
   "id": "c3d7e3ae",
   "metadata": {},
   "outputs": [
    {
     "name": "stdout",
     "output_type": "stream",
     "text": [
      "       name                  college_name  round_one_marks  round_two_marks  \\\n",
      "0  jaskirat  chandigarh group of colleges              5.0              6.0   \n",
      "1       raj                       landran              3.0              4.0   \n",
      "\n",
      "   round_three_marks  technical_round_marks  total_marks    result  \n",
      "0                7.0                    6.0         24.0  rejected  \n",
      "1                4.0                    5.0         24.0  rejected  \n"
     ]
    }
   ],
   "source": [
    "display_data()"
   ]
  },
  {
   "cell_type": "code",
   "execution_count": null,
   "id": "e50816dd",
   "metadata": {},
   "outputs": [],
   "source": []
  }
 ],
 "metadata": {
  "kernelspec": {
   "display_name": "Python 3",
   "language": "python",
   "name": "python3"
  },
  "language_info": {
   "codemirror_mode": {
    "name": "ipython",
    "version": 3
   },
   "file_extension": ".py",
   "mimetype": "text/x-python",
   "name": "python",
   "nbconvert_exporter": "python",
   "pygments_lexer": "ipython3",
   "version": "3.12.2"
  }
 },
 "nbformat": 4,
 "nbformat_minor": 5
}
